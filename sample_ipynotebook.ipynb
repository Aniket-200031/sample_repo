{
 "cells": [
  {
   "cell_type": "markdown",
   "id": "00423d7e",
   "metadata": {},
   "source": [
    "### My Name"
   ]
  },
  {
   "cell_type": "code",
   "execution_count": 30,
   "id": "ea1fee79",
   "metadata": {},
   "outputs": [
    {
     "name": "stdout",
     "output_type": "stream",
     "text": [
      "Aniket kuanar\n"
     ]
    }
   ],
   "source": [
    "print(\"Aniket kuanar\")"
   ]
  },
  {
   "cell_type": "markdown",
   "id": "4637c32b",
   "metadata": {},
   "source": [
    "### My first Program"
   ]
  },
  {
   "cell_type": "code",
   "execution_count": 31,
   "id": "4631ee3b",
   "metadata": {},
   "outputs": [
    {
     "name": "stdout",
     "output_type": "stream",
     "text": [
      "Hello World\n"
     ]
    }
   ],
   "source": [
    "print(\"Hello World\")"
   ]
  },
  {
   "cell_type": "markdown",
   "id": "f249053d",
   "metadata": {},
   "source": [
    "### Variables"
   ]
  },
  {
   "cell_type": "code",
   "execution_count": 32,
   "id": "6d6861ee",
   "metadata": {},
   "outputs": [
    {
     "name": "stdout",
     "output_type": "stream",
     "text": [
      "1\n"
     ]
    }
   ],
   "source": [
    "print(1)"
   ]
  },
  {
   "cell_type": "code",
   "execution_count": 33,
   "id": "edd51618",
   "metadata": {},
   "outputs": [],
   "source": [
    "name=\"Aniket\"\n",
    "Age=23\n",
    "Income=10000"
   ]
  },
  {
   "cell_type": "code",
   "execution_count": 34,
   "id": "5a090a50",
   "metadata": {},
   "outputs": [
    {
     "name": "stdout",
     "output_type": "stream",
     "text": [
      "Aniket\n",
      "23\n",
      "10000\n"
     ]
    }
   ],
   "source": [
    "print(name)\n",
    "print(Age)\n",
    "print(Income)"
   ]
  },
  {
   "cell_type": "markdown",
   "id": "cd483501",
   "metadata": {},
   "source": [
    "### Space is not allowed while defining a variable"
   ]
  },
  {
   "cell_type": "code",
   "execution_count": 35,
   "id": "0d35b887",
   "metadata": {},
   "outputs": [
    {
     "data": {
      "text/plain": [
       "('Aniket', 'kuanar')"
      ]
     },
     "execution_count": 35,
     "metadata": {},
     "output_type": "execute_result"
    }
   ],
   "source": [
    "namelist=(\"Aniket\",\"kuanar\")\n",
    "namelist"
   ]
  },
  {
   "cell_type": "code",
   "execution_count": 36,
   "id": "cc0a6852",
   "metadata": {},
   "outputs": [
    {
     "data": {
      "text/plain": [
       "('Aniket', 'kuanar')"
      ]
     },
     "execution_count": 36,
     "metadata": {},
     "output_type": "execute_result"
    }
   ],
   "source": [
    "name_list=(\"Aniket\",\"kuanar\")\n",
    "name_list"
   ]
  },
  {
   "cell_type": "markdown",
   "id": "ac6fb99f",
   "metadata": {},
   "source": [
    "### Data types"
   ]
  },
  {
   "cell_type": "code",
   "execution_count": 37,
   "id": "6b356d26",
   "metadata": {},
   "outputs": [
    {
     "data": {
      "text/plain": [
       "str"
      ]
     },
     "execution_count": 37,
     "metadata": {},
     "output_type": "execute_result"
    }
   ],
   "source": [
    "type(\"ai\")"
   ]
  },
  {
   "cell_type": "code",
   "execution_count": 38,
   "id": "d2e4bddb",
   "metadata": {},
   "outputs": [
    {
     "data": {
      "text/plain": [
       "str"
      ]
     },
     "execution_count": 38,
     "metadata": {},
     "output_type": "execute_result"
    }
   ],
   "source": [
    "name=\"ai\"\n",
    "\n",
    "type(name)"
   ]
  },
  {
   "cell_type": "code",
   "execution_count": 39,
   "id": "48af77de",
   "metadata": {},
   "outputs": [
    {
     "data": {
      "text/plain": [
       "int"
      ]
     },
     "execution_count": 39,
     "metadata": {},
     "output_type": "execute_result"
    }
   ],
   "source": [
    "x=10\n",
    "type(x)"
   ]
  },
  {
   "cell_type": "code",
   "execution_count": 40,
   "id": "a353ca05",
   "metadata": {},
   "outputs": [
    {
     "data": {
      "text/plain": [
       "float"
      ]
     },
     "execution_count": 40,
     "metadata": {},
     "output_type": "execute_result"
    }
   ],
   "source": [
    "x=10.7\n",
    "type(x)"
   ]
  },
  {
   "cell_type": "code",
   "execution_count": 41,
   "id": "d3cc344c",
   "metadata": {},
   "outputs": [
    {
     "data": {
      "text/plain": [
       "bool"
      ]
     },
     "execution_count": 41,
     "metadata": {},
     "output_type": "execute_result"
    }
   ],
   "source": [
    "x=True\n",
    "type(x)"
   ]
  },
  {
   "cell_type": "code",
   "execution_count": 42,
   "id": "54f07c89",
   "metadata": {},
   "outputs": [
    {
     "data": {
      "text/plain": [
       "bool"
      ]
     },
     "execution_count": 42,
     "metadata": {},
     "output_type": "execute_result"
    }
   ],
   "source": [
    "y=False\n",
    "type(y)"
   ]
  },
  {
   "cell_type": "code",
   "execution_count": 43,
   "id": "3ebc681f",
   "metadata": {},
   "outputs": [
    {
     "data": {
      "text/plain": [
       "str"
      ]
     },
     "execution_count": 43,
     "metadata": {},
     "output_type": "execute_result"
    }
   ],
   "source": [
    "x=\"True\"\n",
    "type(x)"
   ]
  },
  {
   "cell_type": "markdown",
   "id": "e5b3e141",
   "metadata": {},
   "source": [
    "### List"
   ]
  },
  {
   "cell_type": "markdown",
   "id": "ad684512",
   "metadata": {},
   "source": [
    "* Container Object"
   ]
  },
  {
   "cell_type": "markdown",
   "id": "d6427660",
   "metadata": {},
   "source": [
    "* List is heterogeneous-> Multiple data types"
   ]
  },
  {
   "cell_type": "markdown",
   "id": "a6fbe7fd",
   "metadata": {},
   "source": [
    "* List is mutable"
   ]
  },
  {
   "cell_type": "markdown",
   "id": "1e8116fe",
   "metadata": {},
   "source": [
    "* List can have duplicates"
   ]
  },
  {
   "cell_type": "markdown",
   "id": "6507acb9",
   "metadata": {},
   "source": [
    "* Elements in a list are separated by comma and enclosed in square bracket."
   ]
  },
  {
   "cell_type": "code",
   "execution_count": 44,
   "id": "0e0652c9",
   "metadata": {},
   "outputs": [
    {
     "data": {
      "text/plain": [
       "[1, 2, 3, 7, -1, 'hi', 5.7, 1, 1, 1]"
      ]
     },
     "execution_count": 44,
     "metadata": {},
     "output_type": "execute_result"
    }
   ],
   "source": [
    "sample_list=[1,2,3,7,-1,\"hi\",5.7,1,1,1]\n",
    "sample_list"
   ]
  },
  {
   "cell_type": "code",
   "execution_count": 45,
   "id": "444a779c",
   "metadata": {},
   "outputs": [
    {
     "data": {
      "text/plain": [
       "list"
      ]
     },
     "execution_count": 45,
     "metadata": {},
     "output_type": "execute_result"
    }
   ],
   "source": [
    "type(sample_list)"
   ]
  },
  {
   "cell_type": "code",
   "execution_count": 46,
   "id": "74b15ef7",
   "metadata": {},
   "outputs": [
    {
     "data": {
      "text/plain": [
       "1"
      ]
     },
     "execution_count": 46,
     "metadata": {},
     "output_type": "execute_result"
    }
   ],
   "source": [
    "sample_list[-1]"
   ]
  },
  {
   "cell_type": "code",
   "execution_count": 47,
   "id": "9b5a9d70",
   "metadata": {},
   "outputs": [
    {
     "data": {
      "text/plain": [
       "'hi'"
      ]
     },
     "execution_count": 47,
     "metadata": {},
     "output_type": "execute_result"
    }
   ],
   "source": [
    "sample_list[-5]"
   ]
  },
  {
   "cell_type": "code",
   "execution_count": 48,
   "id": "d74c889d",
   "metadata": {},
   "outputs": [
    {
     "data": {
      "text/plain": [
       "[100, 2, 3, 7, -1, 'hi', 5.7, 1, 1, 1]"
      ]
     },
     "execution_count": 48,
     "metadata": {},
     "output_type": "execute_result"
    }
   ],
   "source": [
    "sample_list[0]=100\n",
    "sample_list"
   ]
  },
  {
   "cell_type": "markdown",
   "id": "6f273e07",
   "metadata": {},
   "source": [
    "### Tuple"
   ]
  },
  {
   "cell_type": "markdown",
   "id": "c431c124",
   "metadata": {},
   "source": [
    "* Container Object"
   ]
  },
  {
   "cell_type": "markdown",
   "id": "272fe66e",
   "metadata": {},
   "source": [
    "* Heterogenous-> allows multiple data types"
   ]
  },
  {
   "cell_type": "markdown",
   "id": "c388653c",
   "metadata": {},
   "source": [
    "* Can have duplicates"
   ]
  },
  {
   "cell_type": "markdown",
   "id": "89802430",
   "metadata": {},
   "source": [
    "* Immutable"
   ]
  },
  {
   "cell_type": "markdown",
   "id": "14aaa45c",
   "metadata": {},
   "source": [
    "* Elements are separated by comma ,enclosed by paranthesis or without any brackets "
   ]
  },
  {
   "cell_type": "code",
   "execution_count": 49,
   "id": "366ef8de",
   "metadata": {},
   "outputs": [
    {
     "data": {
      "text/plain": [
       "(1, 6, 2.3, 8.3, 'hi')"
      ]
     },
     "execution_count": 49,
     "metadata": {},
     "output_type": "execute_result"
    }
   ],
   "source": [
    "sample_tuple=(1,6,2.3,8.3,\"hi\")\n",
    "sample_tuple"
   ]
  },
  {
   "cell_type": "code",
   "execution_count": 50,
   "id": "aa722963",
   "metadata": {},
   "outputs": [
    {
     "data": {
      "text/plain": [
       "tuple"
      ]
     },
     "execution_count": 50,
     "metadata": {},
     "output_type": "execute_result"
    }
   ],
   "source": [
    "type(sample_tuple)"
   ]
  },
  {
   "cell_type": "code",
   "execution_count": 51,
   "id": "e2374644",
   "metadata": {},
   "outputs": [
    {
     "data": {
      "text/plain": [
       "6"
      ]
     },
     "execution_count": 51,
     "metadata": {},
     "output_type": "execute_result"
    }
   ],
   "source": [
    "sample_tuple[1]"
   ]
  },
  {
   "cell_type": "code",
   "execution_count": 52,
   "id": "0852cd32",
   "metadata": {},
   "outputs": [
    {
     "ename": "TypeError",
     "evalue": "'tuple' object does not support item assignment",
     "output_type": "error",
     "traceback": [
      "\u001b[1;31m---------------------------------------------------------------------------\u001b[0m",
      "\u001b[1;31mTypeError\u001b[0m                                 Traceback (most recent call last)",
      "Cell \u001b[1;32mIn[52], line 1\u001b[0m\n\u001b[1;32m----> 1\u001b[0m sample_tuple[\u001b[38;5;241m1\u001b[39m]\u001b[38;5;241m=\u001b[39m\u001b[38;5;241m100\u001b[39m\n",
      "\u001b[1;31mTypeError\u001b[0m: 'tuple' object does not support item assignment"
     ]
    }
   ],
   "source": [
    "sample_tuple[1]=100"
   ]
  },
  {
   "cell_type": "code",
   "execution_count": 55,
   "id": "dbf8f5f7",
   "metadata": {},
   "outputs": [
    {
     "data": {
      "text/plain": [
       "int"
      ]
     },
     "execution_count": 55,
     "metadata": {},
     "output_type": "execute_result"
    }
   ],
   "source": [
    "type(1)"
   ]
  },
  {
   "cell_type": "code",
   "execution_count": 58,
   "id": "343866b0",
   "metadata": {},
   "outputs": [
    {
     "name": "stdout",
     "output_type": "stream",
     "text": [
      "50\n"
     ]
    },
    {
     "data": {
      "text/plain": [
       "int"
      ]
     },
     "execution_count": 58,
     "metadata": {},
     "output_type": "execute_result"
    }
   ],
   "source": [
    "x=5\n",
    "y=10\n",
    "z=x*y\n",
    "print(z)\n",
    "type(z)"
   ]
  },
  {
   "cell_type": "code",
   "execution_count": 54,
   "id": "da2d958b",
   "metadata": {},
   "outputs": [
    {
     "data": {
      "text/plain": [
       "'ai   ai   ai   '"
      ]
     },
     "execution_count": 54,
     "metadata": {},
     "output_type": "execute_result"
    }
   ],
   "source": [
    "value=\"ai   \"\n",
    "count=3\n",
    "result=value*count\n",
    "result"
   ]
  },
  {
   "cell_type": "code",
   "execution_count": 53,
   "id": "c54d725a",
   "metadata": {},
   "outputs": [
    {
     "name": "stdout",
     "output_type": "stream",
     "text": [
      "0.5\n"
     ]
    },
    {
     "data": {
      "text/plain": [
       "float"
      ]
     },
     "execution_count": 53,
     "metadata": {},
     "output_type": "execute_result"
    }
   ],
   "source": [
    "x=5\n",
    "y=10\n",
    "z=x/y\n",
    "print(z)\n",
    "type(z)"
   ]
  },
  {
   "cell_type": "code",
   "execution_count": 57,
   "id": "f0fa18c6",
   "metadata": {},
   "outputs": [
    {
     "ename": "TypeError",
     "evalue": "unsupported operand type(s) for /: 'str' and 'int'",
     "output_type": "error",
     "traceback": [
      "\u001b[1;31m---------------------------------------------------------------------------\u001b[0m",
      "\u001b[1;31mTypeError\u001b[0m                                 Traceback (most recent call last)",
      "Cell \u001b[1;32mIn[57], line 3\u001b[0m\n\u001b[0;32m      1\u001b[0m value\u001b[38;5;241m=\u001b[39m\u001b[38;5;124m\"\u001b[39m\u001b[38;5;124mai   \u001b[39m\u001b[38;5;124m\"\u001b[39m\n\u001b[0;32m      2\u001b[0m count\u001b[38;5;241m=\u001b[39m\u001b[38;5;241m3\u001b[39m\n\u001b[1;32m----> 3\u001b[0m result\u001b[38;5;241m=\u001b[39m\u001b[43mvalue\u001b[49m\u001b[38;5;241;43m/\u001b[39;49m\u001b[43mcount\u001b[49m\n\u001b[0;32m      4\u001b[0m result\n",
      "\u001b[1;31mTypeError\u001b[0m: unsupported operand type(s) for /: 'str' and 'int'"
     ]
    }
   ],
   "source": [
    "value=\"ai   \"\n",
    "count=3\n",
    "result=value/count\n",
    "result"
   ]
  },
  {
   "cell_type": "code",
   "execution_count": 59,
   "id": "b7ec208d",
   "metadata": {},
   "outputs": [
    {
     "data": {
      "text/plain": [
       "3"
      ]
     },
     "execution_count": 59,
     "metadata": {},
     "output_type": "execute_result"
    }
   ],
   "source": [
    "x=27\n",
    "y=4\n",
    "z=x%y\n",
    "z"
   ]
  },
  {
   "cell_type": "markdown",
   "id": "33e2504d",
   "metadata": {},
   "source": [
    "### Set"
   ]
  },
  {
   "cell_type": "markdown",
   "id": "babcc014",
   "metadata": {},
   "source": [
    "* Set does not allow duplicates "
   ]
  },
  {
   "cell_type": "markdown",
   "id": "4ee83288",
   "metadata": {},
   "source": [
    "* We can not retrieve the set using index"
   ]
  },
  {
   "cell_type": "markdown",
   "id": "cc628e3b",
   "metadata": {},
   "source": [
    "* Set is mutable"
   ]
  },
  {
   "cell_type": "markdown",
   "id": "605babad",
   "metadata": {},
   "source": [
    "* Set has {}"
   ]
  },
  {
   "cell_type": "markdown",
   "id": "bab42e8c",
   "metadata": {},
   "source": [
    "* Ordered-First place"
   ]
  },
  {
   "cell_type": "code",
   "execution_count": 60,
   "id": "7b40b5c2",
   "metadata": {},
   "outputs": [
    {
     "data": {
      "text/plain": [
       "{-1, 1, 11.4, 13.4, 2, 21.5, 3, 4, 5, 9.6, 'ds', 'hello', 'hi'}"
      ]
     },
     "execution_count": 60,
     "metadata": {},
     "output_type": "execute_result"
    }
   ],
   "source": [
    "sample_set={1,2,3,4,5,1,13.4,9.6,\"hi\",\"hello\",\"ds\",-1,11.4,21.5}\n",
    "sample_set"
   ]
  },
  {
   "cell_type": "code",
   "execution_count": 61,
   "id": "0deb42a5",
   "metadata": {},
   "outputs": [
    {
     "ename": "TypeError",
     "evalue": "'set' object is not subscriptable",
     "output_type": "error",
     "traceback": [
      "\u001b[1;31m---------------------------------------------------------------------------\u001b[0m",
      "\u001b[1;31mTypeError\u001b[0m                                 Traceback (most recent call last)",
      "Cell \u001b[1;32mIn[61], line 1\u001b[0m\n\u001b[1;32m----> 1\u001b[0m \u001b[43msample_set\u001b[49m\u001b[43m[\u001b[49m\u001b[38;5;241;43m0\u001b[39;49m\u001b[43m]\u001b[49m\n",
      "\u001b[1;31mTypeError\u001b[0m: 'set' object is not subscriptable"
     ]
    }
   ],
   "source": [
    "sample_set[0]"
   ]
  },
  {
   "cell_type": "code",
   "execution_count": 62,
   "id": "774ed03c",
   "metadata": {},
   "outputs": [
    {
     "ename": "TypeError",
     "evalue": "'set' object does not support item assignment",
     "output_type": "error",
     "traceback": [
      "\u001b[1;31m---------------------------------------------------------------------------\u001b[0m",
      "\u001b[1;31mTypeError\u001b[0m                                 Traceback (most recent call last)",
      "Cell \u001b[1;32mIn[62], line 1\u001b[0m\n\u001b[1;32m----> 1\u001b[0m sample_set[\u001b[38;5;241m0\u001b[39m]\u001b[38;5;241m=\u001b[39m\u001b[38;5;241m1\u001b[39m\n",
      "\u001b[1;31mTypeError\u001b[0m: 'set' object does not support item assignment"
     ]
    }
   ],
   "source": [
    "sample_set[0]=1"
   ]
  },
  {
   "cell_type": "code",
   "execution_count": 63,
   "id": "6f687692",
   "metadata": {},
   "outputs": [],
   "source": [
    "sample_set.add(100)"
   ]
  },
  {
   "cell_type": "code",
   "execution_count": 64,
   "id": "b5714708",
   "metadata": {},
   "outputs": [
    {
     "data": {
      "text/plain": [
       "{-1, 1, 100, 11.4, 13.4, 2, 21.5, 3, 4, 5, 9.6, 'ds', 'hello', 'hi'}"
      ]
     },
     "execution_count": 64,
     "metadata": {},
     "output_type": "execute_result"
    }
   ],
   "source": [
    "sample_set"
   ]
  },
  {
   "cell_type": "code",
   "execution_count": 65,
   "id": "b3135052",
   "metadata": {},
   "outputs": [
    {
     "data": {
      "text/plain": [
       "{-1, 1, 100, 11.4, 13.4, 2, 21.5, 3, 4, 5, 9.6, 'hello', 'hi'}"
      ]
     },
     "execution_count": 65,
     "metadata": {},
     "output_type": "execute_result"
    }
   ],
   "source": [
    "sample_set.remove(\"ds\")\n",
    "sample_set"
   ]
  },
  {
   "cell_type": "markdown",
   "id": "afb9651e",
   "metadata": {},
   "source": [
    "### Dictionary"
   ]
  },
  {
   "cell_type": "markdown",
   "id": "336face7",
   "metadata": {},
   "source": [
    " * Key-Value pair"
   ]
  },
  {
   "cell_type": "markdown",
   "id": "6f58e3e6",
   "metadata": {},
   "source": [
    "* {}"
   ]
  },
  {
   "cell_type": "markdown",
   "id": "33579f61",
   "metadata": {},
   "source": [
    "* Indexing-[ ] square bracket"
   ]
  },
  {
   "cell_type": "markdown",
   "id": "49152c68",
   "metadata": {},
   "source": [
    " * Mutable"
   ]
  },
  {
   "cell_type": "code",
   "execution_count": 80,
   "id": "886d2499",
   "metadata": {},
   "outputs": [
    {
     "data": {
      "text/plain": [
       "{'name': 'arun', 'hobbies': ['painting', 'singing', 'cooking'], 1: 23}"
      ]
     },
     "execution_count": 80,
     "metadata": {},
     "output_type": "execute_result"
    }
   ],
   "source": [
    "dict_1={\"name\":\"arun\",\"hobbies\":[\"painting\",\"singing\",\"cooking\"],1:23}\n",
    "dict_1                                  "
   ]
  },
  {
   "cell_type": "code",
   "execution_count": 81,
   "id": "0ce8b64a",
   "metadata": {},
   "outputs": [
    {
     "data": {
      "text/plain": [
       "dict_keys(['name', 'hobbies', 1])"
      ]
     },
     "execution_count": 81,
     "metadata": {},
     "output_type": "execute_result"
    }
   ],
   "source": [
    "dict_1.keys()"
   ]
  },
  {
   "cell_type": "code",
   "execution_count": 82,
   "id": "440b7ddd",
   "metadata": {},
   "outputs": [
    {
     "data": {
      "text/plain": [
       "dict_values(['arun', ['painting', 'singing', 'cooking'], 23])"
      ]
     },
     "execution_count": 82,
     "metadata": {},
     "output_type": "execute_result"
    }
   ],
   "source": [
    "dict_1.values()"
   ]
  },
  {
   "cell_type": "code",
   "execution_count": 69,
   "id": "3be25bb9",
   "metadata": {},
   "outputs": [
    {
     "data": {
      "text/plain": [
       "{'name': 'Aniket', 'hobbies': ['painting', 'singing', 'cooking'], 1: 23}"
      ]
     },
     "execution_count": 69,
     "metadata": {},
     "output_type": "execute_result"
    }
   ],
   "source": [
    "dict_1['name']=\"Aniket\"\n",
    "dict_1"
   ]
  },
  {
   "cell_type": "code",
   "execution_count": 83,
   "id": "4773e11c",
   "metadata": {},
   "outputs": [
    {
     "data": {
      "text/plain": [
       "{'hobbies': ['painting', 'singing', 'cooking'], 1: 23}"
      ]
     },
     "execution_count": 83,
     "metadata": {},
     "output_type": "execute_result"
    }
   ],
   "source": [
    "del dict_1['name']\n",
    "dict_1"
   ]
  },
  {
   "cell_type": "code",
   "execution_count": 74,
   "id": "6e4f5558",
   "metadata": {},
   "outputs": [],
   "source": [
    "### Add a new key-value\n",
    "dict_1.update({\"class\":\"ds\"})"
   ]
  },
  {
   "cell_type": "code",
   "execution_count": 75,
   "id": "67282246",
   "metadata": {},
   "outputs": [
    {
     "data": {
      "text/plain": [
       "{'hobbies': ['painting', 'singing', 'cooking'], 1: 23, 'class': 'ds'}"
      ]
     },
     "execution_count": 75,
     "metadata": {},
     "output_type": "execute_result"
    }
   ],
   "source": [
    "dict_1"
   ]
  },
  {
   "cell_type": "code",
   "execution_count": 76,
   "id": "be7c99be",
   "metadata": {},
   "outputs": [
    {
     "data": {
      "text/plain": [
       "3"
      ]
     },
     "execution_count": 76,
     "metadata": {},
     "output_type": "execute_result"
    }
   ],
   "source": [
    "len(dict_1)"
   ]
  },
  {
   "cell_type": "code",
   "execution_count": 77,
   "id": "ec5023ce",
   "metadata": {},
   "outputs": [
    {
     "data": {
      "text/plain": [
       "dict"
      ]
     },
     "execution_count": 77,
     "metadata": {},
     "output_type": "execute_result"
    }
   ],
   "source": [
    "type(dict_1)"
   ]
  },
  {
   "cell_type": "code",
   "execution_count": 78,
   "id": "b270b4b0",
   "metadata": {},
   "outputs": [
    {
     "data": {
      "text/plain": [
       "dict_items([('hobbies', ['painting', 'singing', 'cooking']), (1, 23), ('class', 'ds')])"
      ]
     },
     "execution_count": 78,
     "metadata": {},
     "output_type": "execute_result"
    }
   ],
   "source": [
    "dict_1.items()"
   ]
  },
  {
   "cell_type": "code",
   "execution_count": 79,
   "id": "5f762a45",
   "metadata": {},
   "outputs": [
    {
     "data": {
      "text/plain": [
       "['painting', 'singing', 'cooking']"
      ]
     },
     "execution_count": 79,
     "metadata": {},
     "output_type": "execute_result"
    }
   ],
   "source": [
    "dict_1.get(\"hobbies\")"
   ]
  }
 ],
 "metadata": {
  "kernelspec": {
   "display_name": "Python 3 (ipykernel)",
   "language": "python",
   "name": "python3"
  },
  "language_info": {
   "codemirror_mode": {
    "name": "ipython",
    "version": 3
   },
   "file_extension": ".py",
   "mimetype": "text/x-python",
   "name": "python",
   "nbconvert_exporter": "python",
   "pygments_lexer": "ipython3",
   "version": "3.10.9"
  }
 },
 "nbformat": 4,
 "nbformat_minor": 5
}
